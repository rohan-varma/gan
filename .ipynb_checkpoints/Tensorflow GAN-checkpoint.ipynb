{
 "cells": [
  {
   "cell_type": "code",
   "execution_count": 1,
   "metadata": {
    "collapsed": true,
    "deletable": true,
    "editable": true
   },
   "outputs": [],
   "source": [
    "import tensorflow as tf\n",
    "import random\n",
    "import numpy as np\n",
    "import matplotlib.pyplot as plt\n",
    "%matplotlib inline"
   ]
  },
  {
   "cell_type": "code",
   "execution_count": 2,
   "metadata": {
    "collapsed": false,
    "deletable": true,
    "editable": true
   },
   "outputs": [
    {
     "name": "stdout",
     "output_type": "stream",
     "text": [
      "Extracting MNIST_data/train-images-idx3-ubyte.gz\n",
      "Extracting MNIST_data/train-labels-idx1-ubyte.gz\n",
      "Extracting MNIST_data/t10k-images-idx3-ubyte.gz\n",
      "Extracting MNIST_data/t10k-labels-idx1-ubyte.gz\n"
     ]
    }
   ],
   "source": [
    "from tensorflow.examples.tutorials.mnist import input_data\n",
    "mnist = input_data.read_data_sets(\"MNIST_data/\")"
   ]
  },
  {
   "cell_type": "code",
   "execution_count": 3,
   "metadata": {
    "collapsed": true,
    "deletable": true,
    "editable": true
   },
   "outputs": [],
   "source": [
    "def conv2d(x, W):\n",
    "  return tf.nn.conv2d(x, W, strides=[1, 1, 1, 1], padding='SAME')\n",
    "\n",
    "def max_pool_2x2(x):\n",
    "  return tf.nn.max_pool(x, ksize=[1, 2, 2, 1], strides=[1, 2, 2, 1], padding='SAME')\n",
    "\n",
    "def avg_pool_2x2(x):\n",
    "    return tf.nn.avg_pool(x, ksize = [1,2,2,1], strides = [1,2,2,1], padding = 'SAME')\n",
    "\n",
    "def conv_layer(scope, x, filter_dim, pool = 'max', use_lrn = True, reshape_dim_list = None):\n",
    "    with tf.variable_scope(scope):\n",
    "        W_conv1 = tf.get_variable('wconv1', filter_dim, initializer = tf.truncated_normal_initializer(stddev = 0.02))\n",
    "        b_conv1 = tf.get_variable('wconv2', filter_dim[-1], initializer = tf.constant_initializer(0))\n",
    "        h_conv1 = tf.nn.relu(conv2d(x, W_conv1) + b_conv1)\n",
    "        h_pool1 = max_pool_2x2(h_conv1) if pool == 'max' else avg_pool_2x2(h_conv1)\n",
    "        if use_lrn:\n",
    "            h_pool1 = tf.nn.local_response_normalization(h_pool1)\n",
    "        if reshape_dim_list:\n",
    "            h_pool1 = tf.reshape(h_pool1, reshape_dim_list)\n",
    "        return h_pool1\n",
    "    \n",
    "def fc_layer(scope, x, weight_shape, activation = 'relu', dropout_prob = None):\n",
    "    with tf.variable_scope(scope):\n",
    "        W_fc1 = tf.get_variable('wfc', weight_shape, initializer = tf.truncated_normal_initializer(stddev = 0.02))\n",
    "        b_fc1 = tf.get_variable('bfc', weight_shape[-1], initializer = tf.constant_initializer(0))\n",
    "        h_fc1 = tf.matmul(x, W_fc1) + b_fc1\n",
    "        if activation == 'relu': \n",
    "            h_fc1 = tf.nn.relu(h_fc1)\n",
    "        elif activation == 'tanh':\n",
    "            h_fc1 = tf.nn.tanh(h_fc1)\n",
    "        if dropout_prob:\n",
    "            h_fc1 = tf.nn.dropout(h_fc1, keep_prob = 1 - dropout_prob)\n",
    "        return h_fc1\n"
   ]
  },
  {
   "cell_type": "code",
   "execution_count": 4,
   "metadata": {
    "collapsed": false,
    "deletable": true,
    "editable": true
   },
   "outputs": [],
   "source": [
    "def discriminator(x_image, reuse=False):\n",
    "    if (reuse):\n",
    "        tf.get_variable_scope().reuse_variables()\n",
    "    #First Conv and Pool Layers\n",
    "    h_pool1 = conv_layer('d-conv1-layer', x_image, [5,5,1,8])\n",
    "    h_pool2_flat = conv_layer('d-conv2-layer', h_pool1, [5,5,8,16], reshape_dim_list = [-1, 7*7*16])\n",
    "    h_fc1 = fc_layer('d-fc1-layer', h_pool2_flat, [7 * 7 * 16, 32], dropout_prob = 0.5)\n",
    "    h_fc2 = fc_layer('d-fc2-layer', h_fc1, [32, 1], activation = None)\n",
    "    return h_fc2"
   ]
  },
  {
   "cell_type": "code",
   "execution_count": 5,
   "metadata": {
    "collapsed": false
   },
   "outputs": [],
   "source": [
    "def deconv_layer(scope, x, output_shape, kernel_dim, strides = [1,2,2,1], padding = 'SAME', activation = 'relu'):\n",
    "        with tf.variable_scope(scope):\n",
    "            W_conv1 = tf.get_variable('wconv1', [kernel_dim, kernel_dim, output_shape[-1], int(x.get_shape()[-1])], \n",
    "                                      initializer = tf.truncated_normal_initializer(stddev=0.1))\n",
    "            b_conv1 = tf.get_variable('bconv1', [output_shape[-1]], initializer = tf.constant_initializer(.1))\n",
    "            h_conv1 = tf.nn.conv2d_transpose(x, W_conv1, output_shape = output_shape, strides = strides, \n",
    "                                             padding = padding) + b_conv1\n",
    "            h_conv1 = tf.contrib.layers.batch_norm(inputs = h_conv1, center=True, scale=True, \n",
    "                                                   is_training=True, scope = 'batch-norm')\n",
    "            if activation == 'relu':\n",
    "                h_conv1 = tf.nn.relu(h_conv1)\n",
    "            else: # only support relu/tanh for now\n",
    "                h_conv1 = tf.nn.tanh(h_conv1)\n",
    "            return h_conv1"
   ]
  },
  {
   "cell_type": "code",
   "execution_count": 6,
   "metadata": {
    "collapsed": true,
    "deletable": true,
    "editable": true
   },
   "outputs": [],
   "source": [
    "def generator(z, batch_size, z_dim, reuse=False):\n",
    "    if (reuse):\n",
    "        tf.get_variable_scope().reuse_variables()\n",
    "    g_dim = 64 # of filters\n",
    "    c_dim = 1 # color dim (use 3 if rgb)\n",
    "    s = 28 #square dim size of the image\n",
    "    output1_shape = [batch_size, int(s/8), int(s/8), 4 * g_dim]\n",
    "    output2_shape = [batch_size, int(s/4) - 1, int(s/4) - 1, 2 * g_dim]\n",
    "    output3_shape = [batch_size, int(s/2) - 2, int(s/2) - 2, g_dim]\n",
    "    output4_shape = [batch_size, s, s, c_dim]\n",
    "\n",
    "    h0 = tf.reshape(z, [batch_size, int(s/16) +1, int(s/16) +1, 25])\n",
    "    h0 = tf.nn.relu(h0)\n",
    "    h_conv1 = deconv_layer('g-conv-1', h0, output1_shape, 5)\n",
    "    h_conv2 = deconv_layer('g-conv-2', h_conv1, output2_shape, 5)\n",
    "    h_conv3 = deconv_layer('g-conv-3', h_conv2, output3_shape, 5)\n",
    "    h_conv4 = deconv_layer('g-conv-4', h_conv3, output4_shape, 5, padding = 'VALID', activation = 'tanh')\n",
    "    return h_conv4"
   ]
  },
  {
   "cell_type": "code",
   "execution_count": null,
   "metadata": {
    "collapsed": true,
    "deletable": true,
    "editable": true
   },
   "outputs": [],
   "source": []
  },
  {
   "cell_type": "code",
   "execution_count": 7,
   "metadata": {
    "collapsed": false,
    "deletable": true,
    "editable": true
   },
   "outputs": [],
   "source": [
    "def show_generated_image():\n",
    "    z_dim = 100\n",
    "    z_holder = tf.placeholder(tf.float32, [None, z_dim])\n",
    "    sample_img = generator(z_holder, 1, z_dim)\n",
    "    test_z = np.random.normal(-1, 1, [1, z_dim])\n",
    "    img = sample_img.eval(feed_dict = {z_holder: test_z})\n",
    "    img = img.squeeze()\n",
    "    plt.imshow(img, cmap = 'gray_r')\n",
    "    plt.show()"
   ]
  },
  {
   "cell_type": "code",
   "execution_count": 8,
   "metadata": {
    "collapsed": false,
    "deletable": true,
    "editable": true
   },
   "outputs": [],
   "source": [
    "batch_size = 16\n",
    "z_dimensions = 100\n",
    "\n",
    "x_placeholder = tf.placeholder(\"float\", shape = [None,28,28,1]) #Placeholder for input images to the discriminator\n",
    "z_placeholder = tf.placeholder(tf.float32, [None, z_dimensions]) #Placeholder for input noise vectors to the generator\n",
    "Dx = discriminator(x_placeholder) #Dx will hold discriminator prediction probabilities for the real MNIST images\n",
    "Gz = generator(z_placeholder, batch_size, z_dimensions) #Gz holds the generated images\n",
    "Dg = discriminator(Gz, reuse=True) #Dg will hold discriminator prediction probabilities for generated images\n",
    "\n",
    "g_loss = tf.reduce_mean(tf.nn.sigmoid_cross_entropy_with_logits(logits = Dg, labels = tf.ones_like(Dg))) # ensure forward compatibility: function needs to have logits and labels args explicitly used\n",
    "d_loss_real = tf.reduce_mean(tf.nn.sigmoid_cross_entropy_with_logits(logits = Dx, labels = tf.ones_like(Dx)))\n",
    "d_loss_fake = tf.reduce_mean(tf.nn.sigmoid_cross_entropy_with_logits(logits = Dg, labels = tf.zeros_like(Dg)))\n",
    "d_loss = d_loss_real + d_loss_fake\n",
    "\n",
    "tvars = tf.trainable_variables()\n",
    "d_vars = [var for var in tvars if 'd-' in var.name]\n",
    "g_vars = [var for var in tvars if 'g-' in var.name]\n",
    "\n",
    "with tf.variable_scope(tf.get_variable_scope(),reuse=False): \n",
    "    trainerD = tf.train.AdamOptimizer().minimize(d_loss, var_list=d_vars)\n",
    "    trainerG = tf.train.AdamOptimizer().minimize(g_loss, var_list=g_vars)\n",
    "    \n"
   ]
  },
  {
   "cell_type": "code",
   "execution_count": null,
   "metadata": {
    "collapsed": false
   },
   "outputs": [],
   "source": []
  },
  {
   "cell_type": "code",
   "execution_count": null,
   "metadata": {
    "collapsed": false,
    "deletable": true,
    "editable": true
   },
   "outputs": [
    {
     "name": "stdout",
     "output_type": "stream",
     "text": [
      "discriminator loss: 1.3862028121948242\n",
      "generator loss: 0.6936384439468384\n",
      "discriminator loss: 0.5373177528381348\n",
      "generator loss: 2.3342442512512207\n",
      "discriminator loss: 0.11401794850826263\n",
      "generator loss: 3.5449466705322266\n"
     ]
    }
   ],
   "source": [
    "sess = tf.InteractiveSession()\n",
    "sess.run(tf.global_variables_initializer())\n",
    "epochs = 10000\n",
    "for i in range(epochs):\n",
    "    z_batch = np.random.normal(-1, 1, size=[batch_size, z_dimensions])\n",
    "    real_image_batch = mnist.train.next_batch(batch_size)\n",
    "    real_image_batch = np.reshape(real_image_batch[0],[batch_size,28,28,1])\n",
    "    _,dLoss = sess.run([trainerD, d_loss],feed_dict={z_placeholder:z_batch,x_placeholder:real_image_batch}) #Update the discriminator\n",
    "    _,gLoss = sess.run([trainerG,g_loss],feed_dict={z_placeholder:z_batch}) #Update the generator \n",
    "    if i % 500 == 0:\n",
    "        print(\"discriminator loss: {}\".format(dLoss))\n",
    "        print(\"generator loss: {}\".format(gLoss))"
   ]
  },
  {
   "cell_type": "code",
   "execution_count": null,
   "metadata": {
    "collapsed": false,
    "deletable": true,
    "editable": true
   },
   "outputs": [],
   "source": [
    "show_generated_image()\n"
   ]
  },
  {
   "cell_type": "code",
   "execution_count": null,
   "metadata": {
    "collapsed": false,
    "deletable": true,
    "editable": true
   },
   "outputs": [],
   "source": []
  },
  {
   "cell_type": "code",
   "execution_count": null,
   "metadata": {
    "collapsed": false,
    "deletable": true,
    "editable": true
   },
   "outputs": [],
   "source": []
  },
  {
   "cell_type": "code",
   "execution_count": null,
   "metadata": {
    "collapsed": false,
    "deletable": true,
    "editable": true,
    "scrolled": false
   },
   "outputs": [],
   "source": []
  },
  {
   "cell_type": "code",
   "execution_count": null,
   "metadata": {
    "collapsed": true,
    "deletable": true,
    "editable": true
   },
   "outputs": [],
   "source": []
  }
 ],
 "metadata": {
  "kernelspec": {
   "display_name": "Python 3",
   "language": "python",
   "name": "python3"
  },
  "language_info": {
   "codemirror_mode": {
    "name": "ipython",
    "version": 3
   },
   "file_extension": ".py",
   "mimetype": "text/x-python",
   "name": "python",
   "nbconvert_exporter": "python",
   "pygments_lexer": "ipython3",
   "version": "3.5.0"
  }
 },
 "nbformat": 4,
 "nbformat_minor": 2
}
